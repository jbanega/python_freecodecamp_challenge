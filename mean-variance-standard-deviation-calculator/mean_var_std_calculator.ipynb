{
 "metadata": {
  "language_info": {
   "codemirror_mode": {
    "name": "ipython",
    "version": 3
   },
   "file_extension": ".py",
   "mimetype": "text/x-python",
   "name": "python",
   "nbconvert_exporter": "python",
   "pygments_lexer": "ipython3",
   "version": "3.8.5-final"
  },
  "orig_nbformat": 2,
  "kernelspec": {
   "name": "python3",
   "display_name": "Python 3.8.5 64-bit (conda)",
   "metadata": {
    "interpreter": {
     "hash": "20f51e7813b428647605a4fe61f443e799fe9fb6e5ce20c0f7a0f01ac32016f7"
    }
   }
  }
 },
 "nbformat": 4,
 "nbformat_minor": 2,
 "cells": [
  {
   "source": [
    "# FreeCodeCamp Challenge 01: Mean-Variance-Standard Deviation Calculator"
   ],
   "cell_type": "markdown",
   "metadata": {}
  },
  {
   "source": [
    "### Assignment\n",
    "\n",
    "Create a function named `calculate()` that uses Numpy to output the mean, variance, standard deviation, max, min, and sum of the rows, columns, and elements in a 3 x 3 matrix. \n",
    "\n",
    "The input of the function should be a list containing 9 digits. The function should convert the list into a 3 x 3 Numpy array, and then return a dictionary containing the mean, variance, standard deviation, max, min, and sum along both axes and for the flattened matrix. \n",
    "\n",
    "The returned dictionary should follow this format:\n",
    "```py\n",
    "{\n",
    "  'mean': [axis1, axis2, flattened],\n",
    "  'variance': [axis1, axis2, flattened],\n",
    "  'standard deviation': [axis1, axis2, flattened],\n",
    "  'max': [axis1, axis2, flattened],\n",
    "  'min': [axis1, axis2, flattened],\n",
    "  'sum': [axis1, axis2, flattened]\n",
    "}\n",
    "```\n",
    "\n",
    "If a list containing less than 9 elements is passed into the function, it should raise a `ValueError` exception with the message: \"List must contain nine numbers.\" The values in the returned dictionary should be lists and not Numpy arrays.\n",
    "\n",
    "For example, `calculate([0,1,2,3,4,5,6,7,8])` should return:\n",
    "```py\n",
    "{\n",
    "  'mean': [[3.0, 4.0, 5.0], [1.0, 4.0, 7.0], 4.0], \n",
    "  'variance': [[6.0, 6.0, 6.0], [0.6666666666666666, 0.6666666666666666, 0.6666666666666666], 6.666666666666667], \n",
    "  'standard deviation': [[2.449489742783178, 2.449489742783178, 2.449489742783178], [0.816496580927726, 0.816496580927726, 0.816496580927726], 2.581988897471611],\n",
    "  'max': [[6, 7, 8], [2, 5, 8], 8],\n",
    "  'min': [[0, 1, 2], [0, 3, 6], 0],\n",
    "  'sum': [[9, 12, 15], [3, 12, 21], 36]\n",
    "}\n",
    "```"
   ],
   "cell_type": "markdown",
   "metadata": {}
  },
  {
   "cell_type": "code",
   "execution_count": 1,
   "metadata": {},
   "outputs": [],
   "source": [
    "# Dependencies\n",
    "import numpy as np"
   ]
  },
  {
   "cell_type": "code",
   "execution_count": 2,
   "metadata": {},
   "outputs": [],
   "source": [
    "# Defining the function\n",
    "\n",
    "def calculate(list_of_9_number):\n",
    "    \"\"\"This function uses Numpy to output the mean, variance, standard deviation, max, min, and sum of the rows, columns, and\n",
    "    elements in a 3 x 3 matrix. \n",
    "    Input: a list containing 9 digits. \n",
    "    Output: a dictionary containing the mean, variance, standard deviation, max, min, and sum along both axes and for the \n",
    "    flattened matrix in the following format:\n",
    "    {\n",
    "    'mean': [axis1, axis2, flattened],\n",
    "    'variance': [axis1, axis2, flattened],\n",
    "    'standard deviation': [axis1, axis2, flattened],\n",
    "    'max': [axis1, axis2, flattened],\n",
    "    'min': [axis1, axis2, flattened],\n",
    "    'sum': [axis1, axis2, flattened]\n",
    "    }\n",
    "    \"\"\"\n",
    "    \n",
    "    if type(list_of_9_number) == list and len(list_of_9_number) == 9:\n",
    "        x = np.array(list_of_9_number).reshape((3, 3))\n",
    "        calculations = {\n",
    "            'mean': [list(np.mean(x, axis=0)), list(np.mean(x, axis=1)), np.mean(x.flatten())],\n",
    "            'variance': [list(np.var(x, axis=0)), list(np.var(x, axis=1)), np.var(x.flatten())],\n",
    "            'standard deviation': [list(np.std(x, axis=0)), list(np.std(x, axis=1)), np.std(x.flatten())],\n",
    "            'max': [list(np.max(x, axis=0)), list(np.max(x, axis=1)), np.max(x.flatten())],\n",
    "            'min': [list(np.min(x, axis=0)), list(np.min(x, axis=1)), np.min(x.flatten())],\n",
    "            'sum': [list(np.sum(x, axis=0)), list(np.sum(x, axis=1)), np.sum(x.flatten())]\n",
    "            }\n",
    "        return calculations\n",
    "    else:\n",
    "        raise ValueError(\"List must contain nine numbers.\")"
   ]
  },
  {
   "cell_type": "code",
   "execution_count": 3,
   "metadata": {},
   "outputs": [
    {
     "output_type": "execute_result",
     "data": {
      "text/plain": [
       "{'mean': [[3.0, 4.0, 5.0], [1.0, 4.0, 7.0], 4.0],\n",
       " 'variance': [[6.0, 6.0, 6.0],\n",
       "  [0.6666666666666666, 0.6666666666666666, 0.6666666666666666],\n",
       "  6.666666666666667],\n",
       " 'standard deviation': [[2.449489742783178,\n",
       "   2.449489742783178,\n",
       "   2.449489742783178],\n",
       "  [0.816496580927726, 0.816496580927726, 0.816496580927726],\n",
       "  2.581988897471611],\n",
       " 'max': [[6, 7, 8], [2, 5, 8], 8],\n",
       " 'min': [[0, 1, 2], [0, 3, 6], 0],\n",
       " 'sum': [[9, 12, 15], [3, 12, 21], 36]}"
      ]
     },
     "metadata": {},
     "execution_count": 3
    }
   ],
   "source": [
    "# Testing function\n",
    "list_of_9_number = [0, 1, 2, 3, 4, 5, 6, 7, 8]\n",
    "calculate(list_of_9_number)"
   ]
  }
 ]
}